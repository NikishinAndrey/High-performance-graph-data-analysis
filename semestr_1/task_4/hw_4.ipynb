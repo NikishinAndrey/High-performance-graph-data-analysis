{
  "cells": [
    {
      "cell_type": "code",
      "execution_count": null,
      "metadata": {
        "id": "JkEDbTjeQSAV"
      },
      "outputs": [],
      "source": [
        "!pip install python-graphblas"
      ]
    },
    {
      "cell_type": "code",
      "execution_count": 3,
      "metadata": {
        "id": "om_JLf2MS6I4"
      },
      "outputs": [],
      "source": [
        "import graphblas as gb\n",
        "import numpy as np\n",
        "import matplotlib.pyplot as plt\n",
        "from graphblas import Matrix, dtypes, binary, semiring, Vector\n",
        "from graphblas.io import mmread"
      ]
    },
    {
      "cell_type": "markdown",
      "metadata": {
        "id": "5GDJC5nCTAbu"
      },
      "source": [
        "## Задача 1"
      ]
    },
    {
      "cell_type": "markdown",
      "metadata": {
        "id": "X6xgVRFKTEjz"
      },
      "source": [
        "*   Используя python-graphblas реализовать функцию поиска кратчайших путей в ориентированном графе из заданной вершины (Bellman–Ford).\n",
        "*   Функция возвращает массив, где для каждой вершины указано расстояние до неё от указанной стартовой вершины. Если вершина не достижима или кратчайшего пути для неё не существует, то значение соответствующей ячейки равно float('inf').\n"
      ]
    },
    {
      "cell_type": "code",
      "execution_count": 149,
      "metadata": {
        "colab": {
          "base_uri": "https://localhost:8080/",
          "height": 406
        },
        "id": "yhEybCtkTpDP",
        "outputId": "83b235e7-f2d0-45f2-ef1c-f4d70c01cdc0"
      },
      "outputs": [
        {
          "data": {
            "image/png": "[encoded data removed]",
            "text/plain": [
              "<Figure size 640x480 with 1 Axes>"
            ]
          },
          "metadata": {},
          "output_type": "display_data"
        }
      ],
      "source": [
        "edges = [\n",
        "    [2, 4, 1, 0, 3, 2, 3, 5, 6, 1],\n",
        "    [1, 3, 0, 2, 4, 5, 6, 0, 2, 4],\n",
        "    [1, 1, 15, 2, 1, 4, 1, 2, 1, 2],\n",
        "]\n",
        "\n",
        "A = Matrix.from_coo(edges[0], edges[1], edges[2])\n",
        "gb.viz.draw(A)"
      ]
    },
    {
      "cell_type": "code",
      "execution_count": 78,
      "metadata": {
        "id": "2ibnLoAnVzgF"
      },
      "outputs": [],
      "source": [
        "def bellman_ford(graph, start_vertex):\n",
        "    num_vertices = graph.nrows\n",
        "    distances = Vector(graph.dtype, graph.nrows)\n",
        "    distances[start_vertex] << 0\n",
        "\n",
        "    for _ in range(num_vertices - 1):\n",
        "        previous_distances = distances.dup()\n",
        "        distances(binary.min) << distances.vxm(graph, semiring.min_plus)\n",
        "        if distances.isequal(previous_distances):\n",
        "            break\n",
        "\n",
        "    result = []\n",
        "    for index in range(num_vertices):\n",
        "        result.append((index, float('inf') if distances[index].value is None or distances[index].value < 0 else distances[index].value))\n",
        "    return result"
      ]
    },
    {
      "cell_type": "code",
      "execution_count": 90,
      "metadata": {
        "colab": {
          "base_uri": "https://localhost:8080/"
        },
        "id": "HXSNL7eSjZqd",
        "outputId": "16cacb27-3243-4ff5-d859-1f378a5301cf"
      },
      "outputs": [
        {
          "data": {
            "text/plain": [
              "[(0, 11), (1, 0), (2, 5), (3, 3), (4, 2), (5, 9), (6, 4)]"
            ]
          },
          "execution_count": 90,
          "metadata": {},
          "output_type": "execute_result"
        }
      ],
      "source": [
        "bellman_ford(A, 1)"
      ]
    },
    {
      "cell_type": "markdown",
      "metadata": {
        "id": "2K04sFk6XwE4"
      },
      "source": [
        "Вручную посчитанные кратачайшие пути: (0, 11), (1, 0), (2, 5), (3, 3), (4, 2), (5, 9), (6, 4)\n",
        "\n",
        "!Результат программы совпал!"
      ]
    },
    {
      "cell_type": "code",
      "execution_count": 88,
      "metadata": {
        "id": "SXSsgLosV3Iq"
      },
      "outputs": [],
      "source": [
        "def test_calculate_msbfs_levels():\n",
        "    edges = [\n",
        "    [2, 4, 1, 0, 3, 2, 3, 5, 6, 1],\n",
        "    [1, 3, 0, 2, 4, 5, 6, 0, 2, 4],\n",
        "    [1, 1, 15, 2, 1, 4, 1, 2, 1, 2],\n",
        "    ]\n",
        "\n",
        "    A = Matrix.from_coo(edges[0], edges[1], edges[2])\n",
        "\n",
        "    result = bellman_ford(A, 1)\n",
        "    assert result == [(0, 11), (1, 0), (2, 5), (3, 3), (4, 2), (5, 9), (6, 4)]\n",
        "\n",
        "    edges = [\n",
        "    [0, 1, 2, 3, 4, 5],\n",
        "    [1, 2, 3, 4, 5, 0],\n",
        "    [4, -2, 3, 1, 2, 3]\n",
        "    ]\n",
        "\n",
        "    A = Matrix.from_coo(edges[0], edges[1], edges[2])\n",
        "    result = bellman_ford(A, 1)\n",
        "    assert result == [(0, 7), (1, 0), (2, float('inf')), (3, 1), (4, 2), (5, 4)]\n",
        "    print(\"Success!\")"
      ]
    },
    {
      "cell_type": "code",
      "execution_count": 89,
      "metadata": {
        "colab": {
          "base_uri": "https://localhost:8080/"
        },
        "id": "8JYhwWLyjMrH",
        "outputId": "dc1a160a-8f77-420f-8a52-081e83357d75"
      },
      "outputs": [
        {
          "name": "stdout",
          "output_type": "stream",
          "text": [
            "Success!\n"
          ]
        }
      ],
      "source": [
        "test_calculate_msbfs_levels()"
      ]
    },
    {
      "cell_type": "markdown",
      "metadata": {
        "id": "pbhIkY1xjep9"
      },
      "source": [
        "## Задача 2"
      ]
    },
    {
      "cell_type": "markdown",
      "metadata": {
        "id": "v8J4SpoljmFI"
      },
      "source": [
        "*   Используя python-graphblas реализовать функцию поиска кратчайших путей в ориентированном графе из нескольких заданных вершин, модифицировав предыдущий алгоритм.\n",
        "*   Функция возвращает массив пар: вершина, и массив, где для каждой вершины указано расстояние до неё из указанной. Если вершина не достижима или кратчайшего пути для неё не существует, то значение соответствующей ячейки равно float('inf')."
      ]
    },
    {
      "cell_type": "code",
      "execution_count": 103,
      "metadata": {
        "id": "pO5rbL2XjjTe"
      },
      "outputs": [],
      "source": [
        "def bellman_ford_multi(graph, source_vertices):\n",
        "    num_vertices = graph.nrows\n",
        "    distance_matrix = Matrix(graph.dtype, len(source_vertices), num_vertices)\n",
        "\n",
        "    for index, source in enumerate(source_vertices):\n",
        "        distance_matrix[index, source] << 0\n",
        "\n",
        "    temp_matrix = distance_matrix.dup()\n",
        "\n",
        "    for iteration in range(num_vertices - 1):\n",
        "        previous_matrix = temp_matrix.dup()\n",
        "        temp_matrix(binary.min) << temp_matrix.mxm(graph, semiring.min_plus)\n",
        "\n",
        "        if temp_matrix.isequal(previous_matrix):\n",
        "            break\n",
        "\n",
        "    result = []\n",
        "    for index in range(len(source_vertices)):\n",
        "        distances = [\n",
        "            (vertex, float('inf') if temp_matrix[index, vertex].value is None or temp_matrix[index, vertex].value < 0 else temp_matrix[index, vertex].value)\n",
        "            for vertex in range(num_vertices)\n",
        "        ]\n",
        "        result.append((source_vertices[index], distances))\n",
        "\n",
        "    return result"
      ]
    },
    {
      "cell_type": "code",
      "execution_count": 104,
      "metadata": {
        "colab": {
          "base_uri": "https://localhost:8080/"
        },
        "id": "2wkCmYGGkANm",
        "outputId": "da73f2e0-2e7b-4c5e-d7fc-b79b5c677c0b"
      },
      "outputs": [
        {
          "data": {
            "text/plain": [
              "[(0, [(0, 0), (1, 3), (2, 2), (3, 6), (4, 5), (5, 6), (6, 7)]),\n",
              " (1, [(0, 11), (1, 0), (2, 5), (3, 3), (4, 2), (5, 9), (6, 4)]),\n",
              " (2, [(0, 6), (1, 1), (2, 0), (3, 4), (4, 3), (5, 4), (6, 5)])]"
            ]
          },
          "execution_count": 104,
          "metadata": {},
          "output_type": "execute_result"
        }
      ],
      "source": [
        "bellman_ford_multi(A, [0,1,2])"
      ]
    },
    {
      "cell_type": "markdown",
      "metadata": {
        "id": "l5migavGlRm_"
      },
      "source": [
        "*   (0, 0), (1, 3), (2, 2), (3, 6), (4, 5), (5, 6), (6, 7)\n",
        "*   (0, 11), (1, 0), (2, 5), (3, 3), (4, 2), (5, 9), (6, 4)\n",
        "*   (0, 6), (1, 1), (2, 0), (3, 4), (4, 3), (5, 4), (6, 5)"
      ]
    },
    {
      "cell_type": "markdown",
      "metadata": {
        "id": "rWVyOimvlk_q"
      },
      "source": [
        "## Задача 3"
      ]
    },
    {
      "cell_type": "markdown",
      "metadata": {
        "id": "dbbnNu5j23tQ"
      },
      "source": [
        "*   Используя python-graphblas реализовать две функции поиска кратчайших путей в ориентированном графе для всех пар вершин (Floyd–Warshall и вычисление транзитивного замыкания).\n",
        "*   Функции возвращают массив пар: вершина, и массив, где для каждой вершины указано расстояние до неё из указанной. Если вершина не достижима или кратчайшего пути для неё не существует, то значение соответствующей ячейки равно float('inf')."
      ]
    },
    {
      "cell_type": "markdown",
      "metadata": {
        "id": "J4Rcb-iKlnjp"
      },
      "source": [
        "### Floyd–Warshall"
      ]
    },
    {
      "cell_type": "code",
      "execution_count": 109,
      "metadata": {
        "id": "06neT7galnCf"
      },
      "outputs": [],
      "source": [
        "def floyd_warshall(graph):\n",
        "    num_vertices = graph.nrows\n",
        "    distance_matrix = graph.dup()\n",
        "\n",
        "    for vertex in range(num_vertices):\n",
        "        distance_matrix[vertex, vertex] << 0\n",
        "\n",
        "    for _ in range(num_vertices):\n",
        "        for _ in range(num_vertices):\n",
        "            for _ in range(num_vertices):\n",
        "                previous_distance_matrix = distance_matrix.dup()\n",
        "                distance_matrix(binary.min) << distance_matrix.mxm(graph, semiring.min_plus)\n",
        "                if distance_matrix.isequal(previous_distance_matrix):\n",
        "                    break\n",
        "\n",
        "    result = []\n",
        "    for vertex in range(num_vertices):\n",
        "        result.append((vertex, [float('inf') if distance_matrix[vertex, end].value is None or distance_matrix[vertex, end].value < 0 else distance_matrix[vertex, end].value for end in range(num_vertices)]))\n",
        "\n",
        "    return result"
      ]
    },
    {
      "cell_type": "code",
      "execution_count": 110,
      "metadata": {
        "colab": {
          "base_uri": "https://localhost:8080/"
        },
        "id": "UJPuGXxWnlAC",
        "outputId": "c3adbcdb-c22c-44cc-b18c-0ae72984fb67"
      },
      "outputs": [
        {
          "data": {
            "text/plain": [
              "[(0, [0, 3, 2, 6, 5, 6, 7]),\n",
              " (1, [11, 0, 5, 3, 2, 9, 4]),\n",
              " (2, [6, 1, 0, 4, 3, 4, 5]),\n",
              " (3, [8, 3, 2, 0, 1, 6, 1]),\n",
              " (4, [9, 4, 3, 1, 0, 7, 2]),\n",
              " (5, [2, 5, 4, 8, 7, 0, 9]),\n",
              " (6, [7, 2, 1, 5, 4, 5, 0])]"
            ]
          },
          "execution_count": 110,
          "metadata": {},
          "output_type": "execute_result"
        }
      ],
      "source": [
        "floyd_warshall(A)"
      ]
    },
    {
      "cell_type": "markdown",
      "metadata": {
        "id": "_sa3Vzbon-b5"
      },
      "source": [
        "### Транзитивное замыкание"
      ]
    },
    {
      "cell_type": "code",
      "execution_count": 111,
      "metadata": {
        "id": "LTQtOfCToC7y"
      },
      "outputs": [],
      "source": [
        "def transitive_closure(graph):\n",
        "    n = graph.nrows\n",
        "    I = Matrix(dtypes.INT32, n, n)\n",
        "\n",
        "    for i in range(n):\n",
        "        I[i, i] << 1\n",
        "\n",
        "    D = graph.dup()\n",
        "\n",
        "    for k in range(n):\n",
        "        D_old = D.dup()\n",
        "        D(binary.min) << D.mxm(graph, semiring.min_plus)\n",
        "        D(binary.min) << D.ewise_add(I, binary.min)\n",
        "        if D.isequal(D_old):\n",
        "            break\n",
        "\n",
        "    D_check = D.dup()\n",
        "    D_check(binary.min) << D.mxm(graph, semiring.min_plus)\n",
        "    D_check(binary.min) << D_check.ewise_add(I, binary.min)\n",
        "\n",
        "    result = {}\n",
        "    for i in range(n):\n",
        "        result[i] = [float('inf') if D[i, j].value is None or D[i, j].value < 0 else (0 if i == j else D[i, j].value) for j in range(n)]\n",
        "\n",
        "    return result"
      ]
    },
    {
      "cell_type": "code",
      "execution_count": 112,
      "metadata": {
        "colab": {
          "base_uri": "https://localhost:8080/"
        },
        "id": "9mdQaWqFomjJ",
        "outputId": "1b32bcb8-6930-41cf-c478-1796a54672d6"
      },
      "outputs": [
        {
          "data": {
            "text/plain": [
              "{0: [0, 3, 2, 6, 5, 6, 7],\n",
              " 1: [11, 0, 5, 3, 2, 9, 4],\n",
              " 2: [6, 1, 0, 4, 3, 4, 5],\n",
              " 3: [8, 3, 2, 0, 1, 6, 1],\n",
              " 4: [9, 4, 3, 1, 0, 7, 2],\n",
              " 5: [2, 5, 4, 8, 7, 0, 9],\n",
              " 6: [7, 2, 1, 5, 4, 5, 0]}"
            ]
          },
          "execution_count": 112,
          "metadata": {},
          "output_type": "execute_result"
        }
      ],
      "source": [
        "transitive_closure(A)"
      ]
    },
    {
      "cell_type": "markdown",
      "metadata": {
        "id": "oHygIR87opg7"
      },
      "source": [
        "**Видим, что результат двух алгоритмов совпал!**"
      ]
    },
    {
      "cell_type": "markdown",
      "metadata": {
        "id": "3J97oQmUo2DS"
      },
      "source": [
        "## Проверка производительности на тестовых графах"
      ]
    },
    {
      "cell_type": "code",
      "execution_count": null,
      "metadata": {
        "id": "-maskCWLo53F"
      },
      "outputs": [],
      "source": [
        "!gdown 1zRLt0DWI5J_tb8q3AoNukjR2n1b_tvc6\n",
        "!unzip graphs.zip\n",
        "!rm -rf graphs.zip"
      ]
    },
    {
      "cell_type": "code",
      "execution_count": 143,
      "metadata": {
        "id": "iNFknZI8pLlG"
      },
      "outputs": [],
      "source": [
        "import time\n",
        "import os\n",
        "import matplotlib.pyplot as plt\n",
        "import random"
      ]
    },
    {
      "cell_type": "code",
      "execution_count": 124,
      "metadata": {
        "id": "pNeucK6upPNw"
      },
      "outputs": [],
      "source": [
        "def calculate_time(A):\n",
        "    start_time = time.time()\n",
        "    bellman_ford(A, 1)\n",
        "    time_1 = time.time() - start_time\n",
        "\n",
        "    start_time = time.time()\n",
        "    bellman_ford_multi(A, [1])\n",
        "    time_2 = time.time() - start_time\n",
        "\n",
        "    return time_1, time_2"
      ]
    },
    {
      "cell_type": "code",
      "execution_count": 125,
      "metadata": {
        "id": "JSj9UcbJpVQe"
      },
      "outputs": [],
      "source": [
        "results = {}\n",
        "for filename in os.listdir('graphs'):\n",
        "    if filename.endswith('.mtx'):\n",
        "        filepath = os.path.join('graphs', filename)\n",
        "        M = mmread(filepath)\n",
        "        nonzero_count = M.nvals\n",
        "        times = calculate_time(M)\n",
        "        results[nonzero_count] = times\n",
        "results = dict(sorted(results.items()))"
      ]
    },
    {
      "cell_type": "code",
      "execution_count": 126,
      "metadata": {
        "colab": {
          "base_uri": "https://localhost:8080/",
          "height": 872
        },
        "id": "KwEtUgruphE1",
        "outputId": "b929a119-dfe9-414c-ccfd-57faf7bb7434"
      },
      "outputs": [
        {
          "data": {
            "image/png": "[encoded data removed]",
            "text/plain": [
              "<Figure size 1000x1000 with 1 Axes>"
            ]
          },
          "metadata": {},
          "output_type": "display_data"
        }
      ],
      "source": [
        "nonzero_count_list = list(results.keys())\n",
        "time_1 = [results[count][0] for count in nonzero_count_list]\n",
        "time_2 = [results[count][1] for count in nonzero_count_list]\n",
        "\n",
        "fig, ax = plt.subplots(1, 1, figsize=(10, 10))\n",
        "\n",
        "ax.plot(nonzero_count_list, time_1, label='bellman_ford')\n",
        "ax.plot(nonzero_count_list, time_2, label='bellman_ford_multi')\n",
        "ax.set_xlabel('Nonzero elements')\n",
        "ax.set_ylabel('Time (s)')\n",
        "ax.set_title('Зависимость от размера графа для алгоритма Беллмана-Форда и его модификации')\n",
        "ax.legend()\n",
        "ax.grid(True)"
      ]
    },
    {
      "cell_type": "code",
      "execution_count": 128,
      "metadata": {
        "id": "pe4MiM9Epq9y"
      },
      "outputs": [],
      "source": [
        "def calculate_time_floyd(A):\n",
        "    start_time = time.time()\n",
        "    floyd_warshall(A)\n",
        "    time_1 = time.time() - start_time\n",
        "\n",
        "    start_time = time.time()\n",
        "    transitive_closure(A)\n",
        "    time_2 = time.time() - start_time\n",
        "\n",
        "    return time_1, time_2"
      ]
    },
    {
      "cell_type": "code",
      "execution_count": 135,
      "metadata": {
        "id": "9SXG0fLRwCMI"
      },
      "outputs": [],
      "source": [
        "from tqdm import tqdm_notebook as tqdm"
      ]
    },
    {
      "cell_type": "markdown",
      "metadata": {
        "id": "dgKfCTa5q8RH"
      },
      "source": [
        "**сравнение на сгененированных графах**"
      ]
    },
    {
      "cell_type": "code",
      "execution_count": 137,
      "metadata": {
        "id": "eA0rhhBkq0QS"
      },
      "outputs": [],
      "source": [
        "def generate_weighted_random_graph(num_vertices, sparsity, weight_range=(1, 10)):\n",
        "    np_zeros = np.zeros((num_vertices, num_vertices))\n",
        "    adjacency_matrix = gb.Matrix.from_dense(np_zeros, missing_value=0)\n",
        "\n",
        "    for i in range(num_vertices):\n",
        "        for j in range(i, num_vertices):\n",
        "            if random.random() < sparsity:\n",
        "                weight = random.randint(weight_range[0], weight_range[1])  # Генерация случайного веса\n",
        "                if i == j:\n",
        "                    adjacency_matrix[i, j] = weight  # Веса для петель\n",
        "                else:\n",
        "                    adjacency_matrix[i, j] = weight\n",
        "                    adjacency_matrix[j, i] = weight  # Симметричное добавление веса\n",
        "\n",
        "    return adjacency_matrix"
      ]
    },
    {
      "cell_type": "code",
      "execution_count": null,
      "metadata": {},
      "outputs": [],
      "source": [
        "results_random = {}\n",
        "for num_vertices in tqdm(np.arange(10, 200, 5)):\n",
        "    graph = generate_weighted_random_graph(num_vertices, sparsity=0.1)\n",
        "    times = calculate_time(graph)\n",
        "    results_random[num_vertices] = times\n",
        "\n",
        "num_vertices_list = list(results_random.keys())\n",
        "time_1 = [results_random[count][0] for count in num_vertices_list]\n",
        "time_2 = [results_random[count][1] for count in num_vertices_list]\n",
        "\n",
        "fig, ax = plt.subplots(figsize=(10, 6))\n",
        "\n",
        "ax.plot(num_vertices_list, time_1, label='bellman_ford')\n",
        "ax.plot(num_vertices_list, time_2, label='bellman_ford_multi')\n",
        "\n",
        "ax.set_xlabel('Nonzero elements')\n",
        "ax.set_ylabel('Time (s)')\n",
        "ax.set_title('Зависимость от размера графа для алгоритма Беллмана-Форда и его модификации (степень разряженности = 0.1)')\n",
        "ax.legend()\n",
        "ax.grid(True)\n",
        "plt.show()"
      ]
    },
    {
      "cell_type": "code",
      "execution_count": null,
      "metadata": {},
      "outputs": [],
      "source": [
        "results_random = {}\n",
        "for num_vertices in tqdm(np.arange(10, 100, 5)):\n",
        "    graph = generate_weighted_random_graph(num_vertices, sparsity=0.1)\n",
        "    times = calculate_time_floyd(graph)\n",
        "    results_random[num_vertices] = times\n",
        "\n",
        "num_vertices_list = list(results_random.keys())\n",
        "time_1 = [results_random[count][0] for count in num_vertices_list]\n",
        "time_2 = [results_random[count][1] for count in num_vertices_list]\n",
        "\n",
        "fig, ax = plt.subplots(figsize=(10, 6))\n",
        "\n",
        "ax.plot(num_vertices_list, time_1, label='Floyd–Warshall')\n",
        "ax.plot(num_vertices_list, time_2, label='Транзитивное замыкание')\n",
        "\n",
        "ax.set_xlabel('Nonzero elements')\n",
        "ax.set_ylabel('Time (s)')\n",
        "ax.set_title('Сравнение алгоритмов Флойда-Варшалла и транзитивного замыкания от размера графа (степень разряженности = 0.1)')\n",
        "ax.legend()\n",
        "ax.grid(True)\n",
        "plt.show()"
      ]
    },
    {
      "cell_type": "markdown",
      "metadata": {
        "id": "079WHpTSsc7F"
      },
      "source": [
        "## Оценка push/pull direction optimization"
      ]
    },
    {
      "cell_type": "code",
      "execution_count": 144,
      "metadata": {
        "id": "i3TThhwes4ZP"
      },
      "outputs": [],
      "source": [
        "def mod_bellman_ford(graph, start_vertex, flag_push=True):\n",
        "    num_vertices = graph.nrows\n",
        "    distances = Vector(dtypes.INT64, num_vertices)\n",
        "    distances[start_vertex] << 0\n",
        "    temp_distances = distances.dup()\n",
        "\n",
        "    for iteration in range(num_vertices - 1):\n",
        "        previous_distances = distances.dup()\n",
        "        if flag_push:\n",
        "            distances(binary.min) << distances.vxm(graph, semiring.min_plus)\n",
        "        else:\n",
        "            distances(binary.min) << graph.T.mxv(distances, semiring.min_plus)\n",
        "        if distances.isequal(previous_distances):\n",
        "            break\n",
        "\n",
        "    result = []\n",
        "    for index in range(num_vertices):\n",
        "        result.append((index, float('inf') if distances[index].value is None or distances[index].value < 0 else distances[index].value))\n",
        "    return result"
      ]
    },
    {
      "cell_type": "code",
      "execution_count": 146,
      "metadata": {
        "id": "2wVIyLW7xgkd"
      },
      "outputs": [],
      "source": [
        "def calculate_time_mod(A):\n",
        "    start_time = time.time()\n",
        "    mod_bellman_ford(A, 1, flag_push=True) # push\n",
        "    time_1 = time.time() - start_time\n",
        "\n",
        "    start_time = time.time()\n",
        "    mod_bellman_ford(A, 1, flag_push=False) # pull\n",
        "    time_2 = time.time() - start_time\n",
        "\n",
        "    return time_1, time_2"
      ]
    },
    {
      "cell_type": "code",
      "execution_count": null,
      "metadata": {},
      "outputs": [],
      "source": [
        "results_random = {}\n",
        "for num_vertices in tqdm(np.arange(10, 300, 5)):\n",
        "    graph = generate_weighted_random_graph(num_vertices, sparsity=0.1)\n",
        "    times = calculate_time_mod(graph)\n",
        "    results_random[num_vertices] = times\n",
        "\n",
        "num_vertices_list = list(results_random.keys())\n",
        "time_1 = [results_random[count][0] for count in num_vertices_list]\n",
        "time_2 = [results_random[count][1] for count in num_vertices_list]\n",
        "\n",
        "fig, ax = plt.subplots(figsize=(10, 6))\n",
        "\n",
        "ax.plot(num_vertices_list, time_1, label='bellman_ford (push)')\n",
        "ax.plot(num_vertices_list, time_2, label='bellman_ford (pull)')\n",
        "\n",
        "ax.set_xlabel('Nonzero elements')\n",
        "ax.set_ylabel('Time (s)')\n",
        "ax.set_title('Зависимость от размера графа для алгоритма Беллмана-Форда (push vs pull)')\n",
        "ax.legend()\n",
        "ax.grid(True)\n",
        "plt.show()"
      ]
    },
    {
      "cell_type": "markdown",
      "metadata": {
        "id": "3rpU52Cn14zY"
      },
      "source": [
        "**Вывод:**\n",
        "\n",
        "*   Push и pull не отличается в производительности для алгоритма Беллмана-Форда\n"
      ]
    }
  ],
  "metadata": {
    "colab": {
      "provenance": []
    },
    "kernelspec": {
      "display_name": "Python 3",
      "name": "python3"
    },
    "language_info": {
      "name": "python",
      "version": "3.13.0"
    },
    "widgets": {
      "application/vnd.jupyter.widget-state+json": {
        "037e9148588a4666b95cfff89968169c": {
          "model_module": "@jupyter-widgets/controls",
          "model_module_version": "1.5.0",
          "model_name": "DescriptionStyleModel",
          "state": {
            "_model_module": "@jupyter-widgets/controls",
            "_model_module_version": "1.5.0",
            "_model_name": "DescriptionStyleModel",
            "_view_count": null,
            "_view_module": "@jupyter-widgets/base",
            "_view_module_version": "1.2.0",
            "_view_name": "StyleView",
            "description_width": ""
          }
        },
        "03def320c9cc4ee5af8f157c09425ff4": {
          "model_module": "@jupyter-widgets/controls",
          "model_module_version": "1.5.0",
          "model_name": "ProgressStyleModel",
          "state": {
            "_model_module": "@jupyter-widgets/controls",
            "_model_module_version": "1.5.0",
            "_model_name": "ProgressStyleModel",
            "_view_count": null,
            "_view_module": "@jupyter-widgets/base",
            "_view_module_version": "1.2.0",
            "_view_name": "StyleView",
            "bar_color": null,
            "description_width": ""
          }
        },
        "061fd6ba32324e398f04e5e0b09b963b": {
          "model_module": "@jupyter-widgets/base",
          "model_module_version": "1.2.0",
          "model_name": "LayoutModel",
          "state": {
            "_model_module": "@jupyter-widgets/base",
            "_model_module_version": "1.2.0",
            "_model_name": "LayoutModel",
            "_view_count": null,
            "_view_module": "@jupyter-widgets/base",
            "_view_module_version": "1.2.0",
            "_view_name": "LayoutView",
            "align_content": null,
            "align_items": null,
            "align_self": null,
            "border": null,
            "bottom": null,
            "display": null,
            "flex": null,
            "flex_flow": null,
            "grid_area": null,
            "grid_auto_columns": null,
            "grid_auto_flow": null,
            "grid_auto_rows": null,
            "grid_column": null,
            "grid_gap": null,
            "grid_row": null,
            "grid_template_areas": null,
            "grid_template_columns": null,
            "grid_template_rows": null,
            "height": null,
            "justify_content": null,
            "justify_items": null,
            "left": null,
            "margin": null,
            "max_height": null,
            "max_width": null,
            "min_height": null,
            "min_width": null,
            "object_fit": null,
            "object_position": null,
            "order": null,
            "overflow": null,
            "overflow_x": null,
            "overflow_y": null,
            "padding": null,
            "right": null,
            "top": null,
            "visibility": null,
            "width": null
          }
        },
        "0ea04625b6c14ee6b69fbd4711c23384": {
          "model_module": "@jupyter-widgets/controls",
          "model_module_version": "1.5.0",
          "model_name": "ProgressStyleModel",
          "state": {
            "_model_module": "@jupyter-widgets/controls",
            "_model_module_version": "1.5.0",
            "_model_name": "ProgressStyleModel",
            "_view_count": null,
            "_view_module": "@jupyter-widgets/base",
            "_view_module_version": "1.2.0",
            "_view_name": "StyleView",
            "bar_color": null,
            "description_width": ""
          }
        },
        "134a03d50c734aa2bd05d670ce6651b5": {
          "model_module": "@jupyter-widgets/controls",
          "model_module_version": "1.5.0",
          "model_name": "HTMLModel",
          "state": {
            "_dom_classes": [],
            "_model_module": "@jupyter-widgets/controls",
            "_model_module_version": "1.5.0",
            "_model_name": "HTMLModel",
            "_view_count": null,
            "_view_module": "@jupyter-widgets/controls",
            "_view_module_version": "1.5.0",
            "_view_name": "HTMLView",
            "description": "",
            "description_tooltip": null,
            "layout": "IPY_MODEL_d23adf9aab27435b949a27ac8a23e32b",
            "placeholder": "​",
            "style": "IPY_MODEL_b67b379dc22a4f7395965803424dd42b",
            "value": "100%"
          }
        },
        "13d463612ef44ad089f2eaae78342620": {
          "model_module": "@jupyter-widgets/controls",
          "model_module_version": "1.5.0",
          "model_name": "HTMLModel",
          "state": {
            "_dom_classes": [],
            "_model_module": "@jupyter-widgets/controls",
            "_model_module_version": "1.5.0",
            "_model_name": "HTMLModel",
            "_view_count": null,
            "_view_module": "@jupyter-widgets/controls",
            "_view_module_version": "1.5.0",
            "_view_name": "HTMLView",
            "description": "",
            "description_tooltip": null,
            "layout": "IPY_MODEL_c90eac5cb8a344cb8c69a2d5ced4e57f",
            "placeholder": "​",
            "style": "IPY_MODEL_857e239948f146a9bd654486be675e5f",
            "value": " 18/18 [00:48&lt;00:00,  6.84s/it]"
          }
        },
        "24a5823a627b4518bd392db965ae9ec1": {
          "model_module": "@jupyter-widgets/controls",
          "model_module_version": "1.5.0",
          "model_name": "HTMLModel",
          "state": {
            "_dom_classes": [],
            "_model_module": "@jupyter-widgets/controls",
            "_model_module_version": "1.5.0",
            "_model_name": "HTMLModel",
            "_view_count": null,
            "_view_module": "@jupyter-widgets/controls",
            "_view_module_version": "1.5.0",
            "_view_name": "HTMLView",
            "description": "",
            "description_tooltip": null,
            "layout": "IPY_MODEL_2e5dfff976504ccd91bba01b19c4dc3f",
            "placeholder": "​",
            "style": "IPY_MODEL_39412edf6fbb4d2bb35a41f1b3d0e311",
            "value": "100%"
          }
        },
        "261cb1f9cc3d42e9b1393d6ee27f3682": {
          "model_module": "@jupyter-widgets/controls",
          "model_module_version": "1.5.0",
          "model_name": "FloatProgressModel",
          "state": {
            "_dom_classes": [],
            "_model_module": "@jupyter-widgets/controls",
            "_model_module_version": "1.5.0",
            "_model_name": "FloatProgressModel",
            "_view_count": null,
            "_view_module": "@jupyter-widgets/controls",
            "_view_module_version": "1.5.0",
            "_view_name": "ProgressView",
            "bar_style": "success",
            "description": "",
            "description_tooltip": null,
            "layout": "IPY_MODEL_872f97aa834a4a71b8767078d2c29e03",
            "max": 58,
            "min": 0,
            "orientation": "horizontal",
            "style": "IPY_MODEL_0ea04625b6c14ee6b69fbd4711c23384",
            "value": 58
          }
        },
        "2e5dfff976504ccd91bba01b19c4dc3f": {
          "model_module": "@jupyter-widgets/base",
          "model_module_version": "1.2.0",
          "model_name": "LayoutModel",
          "state": {
            "_model_module": "@jupyter-widgets/base",
            "_model_module_version": "1.2.0",
            "_model_name": "LayoutModel",
            "_view_count": null,
            "_view_module": "@jupyter-widgets/base",
            "_view_module_version": "1.2.0",
            "_view_name": "LayoutView",
            "align_content": null,
            "align_items": null,
            "align_self": null,
            "border": null,
            "bottom": null,
            "display": null,
            "flex": null,
            "flex_flow": null,
            "grid_area": null,
            "grid_auto_columns": null,
            "grid_auto_flow": null,
            "grid_auto_rows": null,
            "grid_column": null,
            "grid_gap": null,
            "grid_row": null,
            "grid_template_areas": null,
            "grid_template_columns": null,
            "grid_template_rows": null,
            "height": null,
            "justify_content": null,
            "justify_items": null,
            "left": null,
            "margin": null,
            "max_height": null,
            "max_width": null,
            "min_height": null,
            "min_width": null,
            "object_fit": null,
            "object_position": null,
            "order": null,
            "overflow": null,
            "overflow_x": null,
            "overflow_y": null,
            "padding": null,
            "right": null,
            "top": null,
            "visibility": null,
            "width": null
          }
        },
        "36bd1c1696904f2b9c3adafd312dfcb2": {
          "model_module": "@jupyter-widgets/base",
          "model_module_version": "1.2.0",
          "model_name": "LayoutModel",
          "state": {
            "_model_module": "@jupyter-widgets/base",
            "_model_module_version": "1.2.0",
            "_model_name": "LayoutModel",
            "_view_count": null,
            "_view_module": "@jupyter-widgets/base",
            "_view_module_version": "1.2.0",
            "_view_name": "LayoutView",
            "align_content": null,
            "align_items": null,
            "align_self": null,
            "border": null,
            "bottom": null,
            "display": null,
            "flex": null,
            "flex_flow": null,
            "grid_area": null,
            "grid_auto_columns": null,
            "grid_auto_flow": null,
            "grid_auto_rows": null,
            "grid_column": null,
            "grid_gap": null,
            "grid_row": null,
            "grid_template_areas": null,
            "grid_template_columns": null,
            "grid_template_rows": null,
            "height": null,
            "justify_content": null,
            "justify_items": null,
            "left": null,
            "margin": null,
            "max_height": null,
            "max_width": null,
            "min_height": null,
            "min_width": null,
            "object_fit": null,
            "object_position": null,
            "order": null,
            "overflow": null,
            "overflow_x": null,
            "overflow_y": null,
            "padding": null,
            "right": null,
            "top": null,
            "visibility": null,
            "width": null
          }
        },
        "39412edf6fbb4d2bb35a41f1b3d0e311": {
          "model_module": "@jupyter-widgets/controls",
          "model_module_version": "1.5.0",
          "model_name": "DescriptionStyleModel",
          "state": {
            "_model_module": "@jupyter-widgets/controls",
            "_model_module_version": "1.5.0",
            "_model_name": "DescriptionStyleModel",
            "_view_count": null,
            "_view_module": "@jupyter-widgets/base",
            "_view_module_version": "1.2.0",
            "_view_name": "StyleView",
            "description_width": ""
          }
        },
        "397a3aaf22294be68083bc060ddaf78c": {
          "model_module": "@jupyter-widgets/controls",
          "model_module_version": "1.5.0",
          "model_name": "HTMLModel",
          "state": {
            "_dom_classes": [],
            "_model_module": "@jupyter-widgets/controls",
            "_model_module_version": "1.5.0",
            "_model_name": "HTMLModel",
            "_view_count": null,
            "_view_module": "@jupyter-widgets/controls",
            "_view_module_version": "1.5.0",
            "_view_name": "HTMLView",
            "description": "",
            "description_tooltip": null,
            "layout": "IPY_MODEL_e63d543d5a324f618d1f9ecd1435373e",
            "placeholder": "​",
            "style": "IPY_MODEL_47946ffb1ca44eb1a45b45c7db5aec39",
            "value": " 58/58 [00:08&lt;00:00,  3.34it/s]"
          }
        },
        "3e5b443a4ba3450daf5a8e97e9a0d35d": {
          "model_module": "@jupyter-widgets/controls",
          "model_module_version": "1.5.0",
          "model_name": "ProgressStyleModel",
          "state": {
            "_model_module": "@jupyter-widgets/controls",
            "_model_module_version": "1.5.0",
            "_model_name": "ProgressStyleModel",
            "_view_count": null,
            "_view_module": "@jupyter-widgets/base",
            "_view_module_version": "1.2.0",
            "_view_name": "StyleView",
            "bar_color": null,
            "description_width": ""
          }
        },
        "417334d119474c1897ba4b37d53b6fdf": {
          "model_module": "@jupyter-widgets/controls",
          "model_module_version": "1.5.0",
          "model_name": "HTMLModel",
          "state": {
            "_dom_classes": [],
            "_model_module": "@jupyter-widgets/controls",
            "_model_module_version": "1.5.0",
            "_model_name": "HTMLModel",
            "_view_count": null,
            "_view_module": "@jupyter-widgets/controls",
            "_view_module_version": "1.5.0",
            "_view_name": "HTMLView",
            "description": "",
            "description_tooltip": null,
            "layout": "IPY_MODEL_061fd6ba32324e398f04e5e0b09b963b",
            "placeholder": "​",
            "style": "IPY_MODEL_82f8286f1c3c4668aef80d449ae465c9",
            "value": "100%"
          }
        },
        "47946ffb1ca44eb1a45b45c7db5aec39": {
          "model_module": "@jupyter-widgets/controls",
          "model_module_version": "1.5.0",
          "model_name": "DescriptionStyleModel",
          "state": {
            "_model_module": "@jupyter-widgets/controls",
            "_model_module_version": "1.5.0",
            "_model_name": "DescriptionStyleModel",
            "_view_count": null,
            "_view_module": "@jupyter-widgets/base",
            "_view_module_version": "1.2.0",
            "_view_name": "StyleView",
            "description_width": ""
          }
        },
        "48f015e2b0594de6aa1b3ede27440ef0": {
          "model_module": "@jupyter-widgets/controls",
          "model_module_version": "1.5.0",
          "model_name": "FloatProgressModel",
          "state": {
            "_dom_classes": [],
            "_model_module": "@jupyter-widgets/controls",
            "_model_module_version": "1.5.0",
            "_model_name": "FloatProgressModel",
            "_view_count": null,
            "_view_module": "@jupyter-widgets/controls",
            "_view_module_version": "1.5.0",
            "_view_name": "ProgressView",
            "bar_style": "success",
            "description": "",
            "description_tooltip": null,
            "layout": "IPY_MODEL_85d7a460def04814b0789365f18d2585",
            "max": 38,
            "min": 0,
            "orientation": "horizontal",
            "style": "IPY_MODEL_03def320c9cc4ee5af8f157c09425ff4",
            "value": 38
          }
        },
        "6e5d1c81b9324220bd4d791721eb80f8": {
          "model_module": "@jupyter-widgets/base",
          "model_module_version": "1.2.0",
          "model_name": "LayoutModel",
          "state": {
            "_model_module": "@jupyter-widgets/base",
            "_model_module_version": "1.2.0",
            "_model_name": "LayoutModel",
            "_view_count": null,
            "_view_module": "@jupyter-widgets/base",
            "_view_module_version": "1.2.0",
            "_view_name": "LayoutView",
            "align_content": null,
            "align_items": null,
            "align_self": null,
            "border": null,
            "bottom": null,
            "display": null,
            "flex": null,
            "flex_flow": null,
            "grid_area": null,
            "grid_auto_columns": null,
            "grid_auto_flow": null,
            "grid_auto_rows": null,
            "grid_column": null,
            "grid_gap": null,
            "grid_row": null,
            "grid_template_areas": null,
            "grid_template_columns": null,
            "grid_template_rows": null,
            "height": null,
            "justify_content": null,
            "justify_items": null,
            "left": null,
            "margin": null,
            "max_height": null,
            "max_width": null,
            "min_height": null,
            "min_width": null,
            "object_fit": null,
            "object_position": null,
            "order": null,
            "overflow": null,
            "overflow_x": null,
            "overflow_y": null,
            "padding": null,
            "right": null,
            "top": null,
            "visibility": null,
            "width": null
          }
        },
        "6f8734a1feb04e3d9d26e119f365512a": {
          "model_module": "@jupyter-widgets/controls",
          "model_module_version": "1.5.0",
          "model_name": "HBoxModel",
          "state": {
            "_dom_classes": [],
            "_model_module": "@jupyter-widgets/controls",
            "_model_module_version": "1.5.0",
            "_model_name": "HBoxModel",
            "_view_count": null,
            "_view_module": "@jupyter-widgets/controls",
            "_view_module_version": "1.5.0",
            "_view_name": "HBoxView",
            "box_style": "",
            "children": [
              "IPY_MODEL_417334d119474c1897ba4b37d53b6fdf",
              "IPY_MODEL_7a2c577bc5a04d55a50f941b824805f9",
              "IPY_MODEL_13d463612ef44ad089f2eaae78342620"
            ],
            "layout": "IPY_MODEL_737989b9dbfc45a9bcb4860be735b70f"
          }
        },
        "737989b9dbfc45a9bcb4860be735b70f": {
          "model_module": "@jupyter-widgets/base",
          "model_module_version": "1.2.0",
          "model_name": "LayoutModel",
          "state": {
            "_model_module": "@jupyter-widgets/base",
            "_model_module_version": "1.2.0",
            "_model_name": "LayoutModel",
            "_view_count": null,
            "_view_module": "@jupyter-widgets/base",
            "_view_module_version": "1.2.0",
            "_view_name": "LayoutView",
            "align_content": null,
            "align_items": null,
            "align_self": null,
            "border": null,
            "bottom": null,
            "display": null,
            "flex": null,
            "flex_flow": null,
            "grid_area": null,
            "grid_auto_columns": null,
            "grid_auto_flow": null,
            "grid_auto_rows": null,
            "grid_column": null,
            "grid_gap": null,
            "grid_row": null,
            "grid_template_areas": null,
            "grid_template_columns": null,
            "grid_template_rows": null,
            "height": null,
            "justify_content": null,
            "justify_items": null,
            "left": null,
            "margin": null,
            "max_height": null,
            "max_width": null,
            "min_height": null,
            "min_width": null,
            "object_fit": null,
            "object_position": null,
            "order": null,
            "overflow": null,
            "overflow_x": null,
            "overflow_y": null,
            "padding": null,
            "right": null,
            "top": null,
            "visibility": null,
            "width": null
          }
        },
        "7a2c577bc5a04d55a50f941b824805f9": {
          "model_module": "@jupyter-widgets/controls",
          "model_module_version": "1.5.0",
          "model_name": "FloatProgressModel",
          "state": {
            "_dom_classes": [],
            "_model_module": "@jupyter-widgets/controls",
            "_model_module_version": "1.5.0",
            "_model_name": "FloatProgressModel",
            "_view_count": null,
            "_view_module": "@jupyter-widgets/controls",
            "_view_module_version": "1.5.0",
            "_view_name": "ProgressView",
            "bar_style": "success",
            "description": "",
            "description_tooltip": null,
            "layout": "IPY_MODEL_36bd1c1696904f2b9c3adafd312dfcb2",
            "max": 18,
            "min": 0,
            "orientation": "horizontal",
            "style": "IPY_MODEL_3e5b443a4ba3450daf5a8e97e9a0d35d",
            "value": 18
          }
        },
        "81748804d8f04ba59de70356b1f8aa8d": {
          "model_module": "@jupyter-widgets/base",
          "model_module_version": "1.2.0",
          "model_name": "LayoutModel",
          "state": {
            "_model_module": "@jupyter-widgets/base",
            "_model_module_version": "1.2.0",
            "_model_name": "LayoutModel",
            "_view_count": null,
            "_view_module": "@jupyter-widgets/base",
            "_view_module_version": "1.2.0",
            "_view_name": "LayoutView",
            "align_content": null,
            "align_items": null,
            "align_self": null,
            "border": null,
            "bottom": null,
            "display": null,
            "flex": null,
            "flex_flow": null,
            "grid_area": null,
            "grid_auto_columns": null,
            "grid_auto_flow": null,
            "grid_auto_rows": null,
            "grid_column": null,
            "grid_gap": null,
            "grid_row": null,
            "grid_template_areas": null,
            "grid_template_columns": null,
            "grid_template_rows": null,
            "height": null,
            "justify_content": null,
            "justify_items": null,
            "left": null,
            "margin": null,
            "max_height": null,
            "max_width": null,
            "min_height": null,
            "min_width": null,
            "object_fit": null,
            "object_position": null,
            "order": null,
            "overflow": null,
            "overflow_x": null,
            "overflow_y": null,
            "padding": null,
            "right": null,
            "top": null,
            "visibility": null,
            "width": null
          }
        },
        "82f8286f1c3c4668aef80d449ae465c9": {
          "model_module": "@jupyter-widgets/controls",
          "model_module_version": "1.5.0",
          "model_name": "DescriptionStyleModel",
          "state": {
            "_model_module": "@jupyter-widgets/controls",
            "_model_module_version": "1.5.0",
            "_model_name": "DescriptionStyleModel",
            "_view_count": null,
            "_view_module": "@jupyter-widgets/base",
            "_view_module_version": "1.2.0",
            "_view_name": "StyleView",
            "description_width": ""
          }
        },
        "8357e72a50a1442c80f6766411f48f72": {
          "model_module": "@jupyter-widgets/controls",
          "model_module_version": "1.5.0",
          "model_name": "HTMLModel",
          "state": {
            "_dom_classes": [],
            "_model_module": "@jupyter-widgets/controls",
            "_model_module_version": "1.5.0",
            "_model_name": "HTMLModel",
            "_view_count": null,
            "_view_module": "@jupyter-widgets/controls",
            "_view_module_version": "1.5.0",
            "_view_name": "HTMLView",
            "description": "",
            "description_tooltip": null,
            "layout": "IPY_MODEL_81748804d8f04ba59de70356b1f8aa8d",
            "placeholder": "​",
            "style": "IPY_MODEL_037e9148588a4666b95cfff89968169c",
            "value": " 38/38 [00:04&lt;00:00,  7.32it/s]"
          }
        },
        "857e239948f146a9bd654486be675e5f": {
          "model_module": "@jupyter-widgets/controls",
          "model_module_version": "1.5.0",
          "model_name": "DescriptionStyleModel",
          "state": {
            "_model_module": "@jupyter-widgets/controls",
            "_model_module_version": "1.5.0",
            "_model_name": "DescriptionStyleModel",
            "_view_count": null,
            "_view_module": "@jupyter-widgets/base",
            "_view_module_version": "1.2.0",
            "_view_name": "StyleView",
            "description_width": ""
          }
        },
        "85d7a460def04814b0789365f18d2585": {
          "model_module": "@jupyter-widgets/base",
          "model_module_version": "1.2.0",
          "model_name": "LayoutModel",
          "state": {
            "_model_module": "@jupyter-widgets/base",
            "_model_module_version": "1.2.0",
            "_model_name": "LayoutModel",
            "_view_count": null,
            "_view_module": "@jupyter-widgets/base",
            "_view_module_version": "1.2.0",
            "_view_name": "LayoutView",
            "align_content": null,
            "align_items": null,
            "align_self": null,
            "border": null,
            "bottom": null,
            "display": null,
            "flex": null,
            "flex_flow": null,
            "grid_area": null,
            "grid_auto_columns": null,
            "grid_auto_flow": null,
            "grid_auto_rows": null,
            "grid_column": null,
            "grid_gap": null,
            "grid_row": null,
            "grid_template_areas": null,
            "grid_template_columns": null,
            "grid_template_rows": null,
            "height": null,
            "justify_content": null,
            "justify_items": null,
            "left": null,
            "margin": null,
            "max_height": null,
            "max_width": null,
            "min_height": null,
            "min_width": null,
            "object_fit": null,
            "object_position": null,
            "order": null,
            "overflow": null,
            "overflow_x": null,
            "overflow_y": null,
            "padding": null,
            "right": null,
            "top": null,
            "visibility": null,
            "width": null
          }
        },
        "872f97aa834a4a71b8767078d2c29e03": {
          "model_module": "@jupyter-widgets/base",
          "model_module_version": "1.2.0",
          "model_name": "LayoutModel",
          "state": {
            "_model_module": "@jupyter-widgets/base",
            "_model_module_version": "1.2.0",
            "_model_name": "LayoutModel",
            "_view_count": null,
            "_view_module": "@jupyter-widgets/base",
            "_view_module_version": "1.2.0",
            "_view_name": "LayoutView",
            "align_content": null,
            "align_items": null,
            "align_self": null,
            "border": null,
            "bottom": null,
            "display": null,
            "flex": null,
            "flex_flow": null,
            "grid_area": null,
            "grid_auto_columns": null,
            "grid_auto_flow": null,
            "grid_auto_rows": null,
            "grid_column": null,
            "grid_gap": null,
            "grid_row": null,
            "grid_template_areas": null,
            "grid_template_columns": null,
            "grid_template_rows": null,
            "height": null,
            "justify_content": null,
            "justify_items": null,
            "left": null,
            "margin": null,
            "max_height": null,
            "max_width": null,
            "min_height": null,
            "min_width": null,
            "object_fit": null,
            "object_position": null,
            "order": null,
            "overflow": null,
            "overflow_x": null,
            "overflow_y": null,
            "padding": null,
            "right": null,
            "top": null,
            "visibility": null,
            "width": null
          }
        },
        "8f83c8a70a224b15894a898b551378a2": {
          "model_module": "@jupyter-widgets/controls",
          "model_module_version": "1.5.0",
          "model_name": "HBoxModel",
          "state": {
            "_dom_classes": [],
            "_model_module": "@jupyter-widgets/controls",
            "_model_module_version": "1.5.0",
            "_model_name": "HBoxModel",
            "_view_count": null,
            "_view_module": "@jupyter-widgets/controls",
            "_view_module_version": "1.5.0",
            "_view_name": "HBoxView",
            "box_style": "",
            "children": [
              "IPY_MODEL_134a03d50c734aa2bd05d670ce6651b5",
              "IPY_MODEL_261cb1f9cc3d42e9b1393d6ee27f3682",
              "IPY_MODEL_397a3aaf22294be68083bc060ddaf78c"
            ],
            "layout": "IPY_MODEL_6e5d1c81b9324220bd4d791721eb80f8"
          }
        },
        "ae63fb292ff243b581c0935b3e823995": {
          "model_module": "@jupyter-widgets/base",
          "model_module_version": "1.2.0",
          "model_name": "LayoutModel",
          "state": {
            "_model_module": "@jupyter-widgets/base",
            "_model_module_version": "1.2.0",
            "_model_name": "LayoutModel",
            "_view_count": null,
            "_view_module": "@jupyter-widgets/base",
            "_view_module_version": "1.2.0",
            "_view_name": "LayoutView",
            "align_content": null,
            "align_items": null,
            "align_self": null,
            "border": null,
            "bottom": null,
            "display": null,
            "flex": null,
            "flex_flow": null,
            "grid_area": null,
            "grid_auto_columns": null,
            "grid_auto_flow": null,
            "grid_auto_rows": null,
            "grid_column": null,
            "grid_gap": null,
            "grid_row": null,
            "grid_template_areas": null,
            "grid_template_columns": null,
            "grid_template_rows": null,
            "height": null,
            "justify_content": null,
            "justify_items": null,
            "left": null,
            "margin": null,
            "max_height": null,
            "max_width": null,
            "min_height": null,
            "min_width": null,
            "object_fit": null,
            "object_position": null,
            "order": null,
            "overflow": null,
            "overflow_x": null,
            "overflow_y": null,
            "padding": null,
            "right": null,
            "top": null,
            "visibility": null,
            "width": null
          }
        },
        "b67b379dc22a4f7395965803424dd42b": {
          "model_module": "@jupyter-widgets/controls",
          "model_module_version": "1.5.0",
          "model_name": "DescriptionStyleModel",
          "state": {
            "_model_module": "@jupyter-widgets/controls",
            "_model_module_version": "1.5.0",
            "_model_name": "DescriptionStyleModel",
            "_view_count": null,
            "_view_module": "@jupyter-widgets/base",
            "_view_module_version": "1.2.0",
            "_view_name": "StyleView",
            "description_width": ""
          }
        },
        "c90eac5cb8a344cb8c69a2d5ced4e57f": {
          "model_module": "@jupyter-widgets/base",
          "model_module_version": "1.2.0",
          "model_name": "LayoutModel",
          "state": {
            "_model_module": "@jupyter-widgets/base",
            "_model_module_version": "1.2.0",
            "_model_name": "LayoutModel",
            "_view_count": null,
            "_view_module": "@jupyter-widgets/base",
            "_view_module_version": "1.2.0",
            "_view_name": "LayoutView",
            "align_content": null,
            "align_items": null,
            "align_self": null,
            "border": null,
            "bottom": null,
            "display": null,
            "flex": null,
            "flex_flow": null,
            "grid_area": null,
            "grid_auto_columns": null,
            "grid_auto_flow": null,
            "grid_auto_rows": null,
            "grid_column": null,
            "grid_gap": null,
            "grid_row": null,
            "grid_template_areas": null,
            "grid_template_columns": null,
            "grid_template_rows": null,
            "height": null,
            "justify_content": null,
            "justify_items": null,
            "left": null,
            "margin": null,
            "max_height": null,
            "max_width": null,
            "min_height": null,
            "min_width": null,
            "object_fit": null,
            "object_position": null,
            "order": null,
            "overflow": null,
            "overflow_x": null,
            "overflow_y": null,
            "padding": null,
            "right": null,
            "top": null,
            "visibility": null,
            "width": null
          }
        },
        "d23adf9aab27435b949a27ac8a23e32b": {
          "model_module": "@jupyter-widgets/base",
          "model_module_version": "1.2.0",
          "model_name": "LayoutModel",
          "state": {
            "_model_module": "@jupyter-widgets/base",
            "_model_module_version": "1.2.0",
            "_model_name": "LayoutModel",
            "_view_count": null,
            "_view_module": "@jupyter-widgets/base",
            "_view_module_version": "1.2.0",
            "_view_name": "LayoutView",
            "align_content": null,
            "align_items": null,
            "align_self": null,
            "border": null,
            "bottom": null,
            "display": null,
            "flex": null,
            "flex_flow": null,
            "grid_area": null,
            "grid_auto_columns": null,
            "grid_auto_flow": null,
            "grid_auto_rows": null,
            "grid_column": null,
            "grid_gap": null,
            "grid_row": null,
            "grid_template_areas": null,
            "grid_template_columns": null,
            "grid_template_rows": null,
            "height": null,
            "justify_content": null,
            "justify_items": null,
            "left": null,
            "margin": null,
            "max_height": null,
            "max_width": null,
            "min_height": null,
            "min_width": null,
            "object_fit": null,
            "object_position": null,
            "order": null,
            "overflow": null,
            "overflow_x": null,
            "overflow_y": null,
            "padding": null,
            "right": null,
            "top": null,
            "visibility": null,
            "width": null
          }
        },
        "d5be5309e1fb424592cfbeaec7aa55e8": {
          "model_module": "@jupyter-widgets/controls",
          "model_module_version": "1.5.0",
          "model_name": "HBoxModel",
          "state": {
            "_dom_classes": [],
            "_model_module": "@jupyter-widgets/controls",
            "_model_module_version": "1.5.0",
            "_model_name": "HBoxModel",
            "_view_count": null,
            "_view_module": "@jupyter-widgets/controls",
            "_view_module_version": "1.5.0",
            "_view_name": "HBoxView",
            "box_style": "",
            "children": [
              "IPY_MODEL_24a5823a627b4518bd392db965ae9ec1",
              "IPY_MODEL_48f015e2b0594de6aa1b3ede27440ef0",
              "IPY_MODEL_8357e72a50a1442c80f6766411f48f72"
            ],
            "layout": "IPY_MODEL_ae63fb292ff243b581c0935b3e823995"
          }
        },
        "e63d543d5a324f618d1f9ecd1435373e": {
          "model_module": "@jupyter-widgets/base",
          "model_module_version": "1.2.0",
          "model_name": "LayoutModel",
          "state": {
            "_model_module": "@jupyter-widgets/base",
            "_model_module_version": "1.2.0",
            "_model_name": "LayoutModel",
            "_view_count": null,
            "_view_module": "@jupyter-widgets/base",
            "_view_module_version": "1.2.0",
            "_view_name": "LayoutView",
            "align_content": null,
            "align_items": null,
            "align_self": null,
            "border": null,
            "bottom": null,
            "display": null,
            "flex": null,
            "flex_flow": null,
            "grid_area": null,
            "grid_auto_columns": null,
            "grid_auto_flow": null,
            "grid_auto_rows": null,
            "grid_column": null,
            "grid_gap": null,
            "grid_row": null,
            "grid_template_areas": null,
            "grid_template_columns": null,
            "grid_template_rows": null,
            "height": null,
            "justify_content": null,
            "justify_items": null,
            "left": null,
            "margin": null,
            "max_height": null,
            "max_width": null,
            "min_height": null,
            "min_width": null,
            "object_fit": null,
            "object_position": null,
            "order": null,
            "overflow": null,
            "overflow_x": null,
            "overflow_y": null,
            "padding": null,
            "right": null,
            "top": null,
            "visibility": null,
            "width": null
          }
        }
      }
    }
  },
  "nbformat": 4,
  "nbformat_minor": 0
}
